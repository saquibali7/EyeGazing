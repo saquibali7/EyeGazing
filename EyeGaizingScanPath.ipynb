{
  "cells": [
    {
      "cell_type": "markdown",
      "metadata": {
        "id": "view-in-github",
        "colab_type": "text"
      },
      "source": [
        "<a href=\"https://colab.research.google.com/github/saquibali7/EyeGazing/blob/main/EyeGaizingScanPath.ipynb\" target=\"_parent\"><img src=\"https://colab.research.google.com/assets/colab-badge.svg\" alt=\"Open In Colab\"/></a>"
      ]
    },
    {
      "cell_type": "code",
      "execution_count": null,
      "metadata": {
        "id": "qq8smx7iKK7p"
      },
      "outputs": [],
      "source": [
        "import os\n",
        "import numpy as np\n",
        "import pandas as pd\n",
        "import matplotlib.pyplot as plt\n",
        "import tensorflow as tf\n",
        "from tensorflow import keras\n",
        "from numpy import asarray\n",
        "from numpy.random import randint\n",
        "from keras.preprocessing.image import load_img\n",
        "from keras.preprocessing.image import img_to_array"
      ]
    },
    {
      "cell_type": "code",
      "execution_count": null,
      "metadata": {
        "colab": {
          "base_uri": "https://localhost:8080/"
        },
        "id": "UfuzPJGmKjf6",
        "outputId": "565c8b70-0d0e-4f2e-8e93-3d994f5c3337"
      },
      "outputs": [
        {
          "output_type": "stream",
          "name": "stdout",
          "text": [
            "Mounted at /content/drive\n"
          ]
        }
      ],
      "source": [
        "from google.colab import drive\n",
        "drive.mount('/content/drive')"
      ]
    },
    {
      "cell_type": "code",
      "execution_count": null,
      "metadata": {
        "id": "wuTq8Qe6UcUk"
      },
      "outputs": [],
      "source": [
        "path1 = '/content/drive/MyDrive/EyeGazing/Images/TCImages'\n",
        "path2 = '/content/drive/MyDrive/EyeGazing/Images/TSImages'\n",
        "dir = '/content/drive/MyDrive/EyeGazing/Images'"
      ]
    },
    {
      "cell_type": "code",
      "execution_count": null,
      "metadata": {
        "id": "8caJLaf-K41K"
      },
      "outputs": [],
      "source": [
        "ASDfiles = os.listdir(path2)\n",
        "Non_ASDfiles = os.listdir(path1)"
      ]
    },
    {
      "cell_type": "code",
      "execution_count": null,
      "metadata": {
        "colab": {
          "base_uri": "https://localhost:8080/"
        },
        "id": "UPiDwTTLUqBK",
        "outputId": "093f5569-bad3-432e-92cc-ff1881f5960d"
      },
      "outputs": [
        {
          "output_type": "stream",
          "name": "stdout",
          "text": [
            "219 328\n"
          ]
        }
      ],
      "source": [
        "print(len(ASDfiles),len(Non_ASDfiles))"
      ]
    },
    {
      "cell_type": "code",
      "execution_count": null,
      "metadata": {
        "colab": {
          "base_uri": "https://localhost:8080/",
          "height": 221
        },
        "id": "zrHJz4lfTIN9",
        "outputId": "776f918f-491b-4ff3-9e24-f43160d25282"
      },
      "outputs": [
        {
          "output_type": "stream",
          "name": "stderr",
          "text": [
            "WARNING:matplotlib.image:Clipping input data to the valid range for imshow with RGB data ([0..1] for floats or [0..255] for integers).\n",
            "WARNING:matplotlib.image:Clipping input data to the valid range for imshow with RGB data ([0..1] for floats or [0..255] for integers).\n"
          ]
        },
        {
          "output_type": "execute_result",
          "data": {
            "text/plain": [
              "<matplotlib.image.AxesImage at 0x7f83437184d0>"
            ]
          },
          "metadata": {},
          "execution_count": 43
        },
        {
          "output_type": "display_data",
          "data": {
            "text/plain": [
              "<Figure size 432x288 with 2 Axes>"
            ],
            "image/png": "[encoded data removed]"
          },
          "metadata": {
            "needs_background": "light"
          }
        }
      ],
      "source": [
        "ix1 = randint(0,len(Non_ASDfiles))\n",
        "ix2 = randint(0,len(ASDfiles))\n",
        "\n",
        "\n",
        "img1 = os.path.join(path1, Non_ASDfiles[ix1])\n",
        "img2 = os.path.join(path2, ASDfiles[ix2])\n",
        "\n",
        "img1 = img_to_array(load_img(img1))\n",
        "img2 = img_to_array(load_img(img2))\n",
        "\n",
        "plt.subplot(1,2,1)\n",
        "plt.imshow(img1)\n",
        "\n",
        "plt.subplot(1,2,2)\n",
        "plt.imshow(img2)\n"
      ]
    },
    {
      "cell_type": "code",
      "execution_count": null,
      "metadata": {
        "id": "F1FgX5Z3XcE5"
      },
      "outputs": [],
      "source": [
        "def preprocessing(path,clas):\n",
        "  X , Y = list(),list()\n",
        "  for img in os.listdir(path):\n",
        "    img = load_img(os.path.join(path,img))\n",
        "    img = img_to_array(img)\n",
        "    img = tf.image.resize(img,(100,100))\n",
        "    X.append(img)\n",
        "    Y.append(tf.keras.utils.to_categorical([clas], num_classes=2))\n",
        "\n",
        "  return asarray(X), asarray(Y)\n",
        "\n"
      ]
    },
    {
      "cell_type": "code",
      "source": [
        "X1, Y1 = preprocessing(path2,0)\n",
        "X2, Y2 = preprocessing(path1,1)"
      ],
      "metadata": {
        "id": "la9XAIAxf9ek"
      },
      "execution_count": null,
      "outputs": []
    },
    {
      "cell_type": "code",
      "source": [
        "X = tf.concat([X1,X2], axis=0)\n",
        "Y = tf.concat([Y1,Y2], axis=0)"
      ],
      "metadata": {
        "id": "pMW_8tuHgPOz"
      },
      "execution_count": null,
      "outputs": []
    },
    {
      "cell_type": "code",
      "source": [
        "def swap(a,b):\n",
        "  temp=a\n",
        "  a=b\n",
        "  b=temp"
      ],
      "metadata": {
        "id": "qw1WC4Rsu6Wr"
      },
      "execution_count": null,
      "outputs": []
    },
    {
      "cell_type": "code",
      "source": [
        "for i in range(100):\n",
        "  ix1 = randint(0,len(X))\n",
        "  ix2 = randint(0,len(X))\n",
        "  swap(X[ix1], X[ix2])\n",
        "  swap(Y[ix1], Y[ix2])"
      ],
      "metadata": {
        "id": "guVLQTZ0ufPX"
      },
      "execution_count": null,
      "outputs": []
    },
    {
      "cell_type": "code",
      "source": [
        "ix = randint(0,len(X))\n",
        "print(Y[ix])\n",
        "plt.imshow(X[ix])"
      ],
      "metadata": {
        "colab": {
          "base_uri": "https://localhost:8080/",
          "height": 323
        },
        "id": "RlTCDKKfjnIC",
        "outputId": "96915ec5-1f45-4473-f8fe-b798d37d4efb"
      },
      "execution_count": null,
      "outputs": [
        {
          "output_type": "stream",
          "name": "stderr",
          "text": [
            "WARNING:matplotlib.image:Clipping input data to the valid range for imshow with RGB data ([0..1] for floats or [0..255] for integers).\n"
          ]
        },
        {
          "output_type": "stream",
          "name": "stdout",
          "text": [
            "tf.Tensor([[1. 0.]], shape=(1, 2), dtype=float32)\n"
          ]
        },
        {
          "output_type": "execute_result",
          "data": {
            "text/plain": [
              "<matplotlib.image.AxesImage at 0x7f83446f4a10>"
            ]
          },
          "metadata": {},
          "execution_count": 25
        },
        {
          "output_type": "display_data",
          "data": {
            "text/plain": [
              "<Figure size 432x288 with 1 Axes>"
            ],
            "image/png": "[encoded data removed]"
          },
          "metadata": {
            "needs_background": "light"
          }
        }
      ]
    },
    {
      "cell_type": "code",
      "execution_count": null,
      "metadata": {
        "id": "0GBhC70vbNVj"
      },
      "outputs": [],
      "source": [
        "from numpy.random import randint\n",
        "from keras import initializers\n",
        "from keras.initializers import RandomNormal\n",
        "from keras.models import Model, Sequential\n",
        "from keras.models import Input\n",
        "from keras.layers import Conv2D\n",
        "from keras.layers import Conv2DTranspose\n",
        "from keras.layers import LeakyReLU\n",
        "from keras.layers import Activation\n",
        "from keras.layers import Concatenate\n",
        "from keras.layers import Dropout, Flatten\n",
        "from keras.layers import BatchNormalization, LayerNormalization\n",
        "from keras.layers import LeakyReLU\n",
        "from matplotlib import pyplot\n",
        "from keras.layers import Concatenate\n",
        "from keras import layers\n",
        "from tensorflow.keras.layers import Conv2D, MaxPooling2D, Flatten, Dense\n",
        "from numpy import reshape\n",
        "from tensorflow.keras import regularizers\n",
        "WEIGHT_DECAY = 0.001"
      ]
    },
    {
      "cell_type": "code",
      "execution_count": null,
      "metadata": {
        "id": "-ebBtJ6dbdQD"
      },
      "outputs": [],
      "source": [
        "model = keras.models.Sequential([\n",
        "                               keras.layers.Conv2D(64, 7, activation='relu', padding='same',kernel_regularizer=regularizers.l2(WEIGHT_DECAY),input_shape=[100,100,3]),\n",
        "                               keras.layers.MaxPooling2D(2),\n",
        "                               keras.layers.Conv2D(128, 3, activation='relu', padding='same',kernel_regularizer=regularizers.l2(WEIGHT_DECAY)),\n",
        "                               keras.layers.Conv2D(128, 3, activation='relu', padding='same',kernel_regularizer=regularizers.l2(WEIGHT_DECAY)),\n",
        "                               keras.layers.MaxPooling2D(2),\n",
        "                               keras.layers.Conv2D(256, 3, activation='relu', padding='same', kernel_regularizer=regularizers.l2(WEIGHT_DECAY)),\n",
        "                               keras.layers.Conv2D(256, 3, activation='relu', padding='same', kernel_regularizer=regularizers.l2(WEIGHT_DECAY)),\n",
        "                               keras.layers.MaxPooling2D(2),\n",
        "                               keras.layers.Flatten(),\n",
        "                               keras.layers.Dense(128, activation='relu'),\n",
        "                               keras.layers.Dropout(0.5),\n",
        "                               keras.layers.Dense(64, activation='relu'),\n",
        "                               keras.layers.Dropout(0.5),\n",
        "                               keras.layers.Dense(2, activation='softmax')\n",
        "])"
      ]
    },
    {
      "cell_type": "code",
      "execution_count": null,
      "metadata": {
        "id": "Bwbt4JLObjHj"
      },
      "outputs": [],
      "source": [
        "opt = tf.keras.optimizers.Adam(learning_rate=0.0003)\n",
        "model.compile(loss='mse', optimizer=opt, metrics=['accuracy'])\n",
        "callback = tf.keras.callbacks.EarlyStopping(monitor='loss', patience=3)"
      ]
    },
    {
      "cell_type": "code",
      "source": [
        "tf.keras.utils.plot_model(\n",
        "    model,\n",
        "    to_file=\"model.png\",\n",
        "    \n",
        ")"
      ],
      "metadata": {
        "colab": {
          "base_uri": "https://localhost:8080/",
          "height": 1000
        },
        "id": "SPxeSi5-jnEC",
        "outputId": "97b33b28-0043-4721-99ae-fcf5b90c598a"
      },
      "execution_count": null,
      "outputs": [
        {
          "output_type": "execute_result",
          "data": {
            "text/plain": [
              "<IPython.core.display.Image object>"
            ],
            "image/png": "[encoded data removed]"
          },
          "metadata": {},
          "execution_count": 8
        }
      ]
    },
    {
      "cell_type": "code",
      "source": [
        "history = model.fit(X, Y, shuffle=True, validation_split=0.15, epochs=25, batch_size=32, callbacks=callback)"
      ],
      "metadata": {
        "id": "yCNUUKKb8cVp"
      },
      "execution_count": null,
      "outputs": []
    },
    {
      "cell_type": "code",
      "source": [
        "model.save('/content/drive/MyDrive/model/EyeGazingScanPath.model')"
      ],
      "metadata": {
        "id": "_npL15jbxSIQ"
      },
      "execution_count": null,
      "outputs": []
    },
    {
      "cell_type": "code",
      "source": [
        "model = tf.keras.models.load_model('/content/drive/MyDrive/model/EyeGazingScanPath.model')"
      ],
      "metadata": {
        "id": "pDsTh2S86XTK"
      },
      "execution_count": null,
      "outputs": []
    },
    {
      "cell_type": "code",
      "source": [
        "name = [ \"Non-ASD\", \"ASD\"]"
      ],
      "metadata": {
        "id": "qrNHw9bQ775K"
      },
      "execution_count": null,
      "outputs": []
    },
    {
      "cell_type": "code",
      "source": [
        "def predict(path, file):\n",
        "  img = load_img(os.path.join(path,file))\n",
        "  img = img_to_array(img)\n",
        "  img = tf.image.resize(img,(100,100))\n",
        "  img = tf.expand_dims(img, axis=0)\n",
        "  out = model.predict(img)\n",
        "  return name[np.argmax(out)]"
      ],
      "metadata": {
        "id": "t4pgwZhx48aJ"
      },
      "execution_count": null,
      "outputs": []
    },
    {
      "cell_type": "code",
      "source": [
        "out = predict(path2, ASDfiles[ix2])"
      ],
      "metadata": {
        "id": "4-8liBq054ev"
      },
      "execution_count": null,
      "outputs": []
    },
    {
      "cell_type": "code",
      "source": [
        "print(out)"
      ],
      "metadata": {
        "colab": {
          "base_uri": "https://localhost:8080/"
        },
        "id": "4keCj_q37cQt",
        "outputId": "29e3eb6b-00d1-4482-f102-a3c651de5724"
      },
      "execution_count": null,
      "outputs": [
        {
          "output_type": "stream",
          "name": "stdout",
          "text": [
            "ASD\n"
          ]
        }
      ]
    },
    {
      "cell_type": "code",
      "source": [
        ""
      ],
      "metadata": {
        "id": "W0aTLYqe7vb9"
      },
      "execution_count": null,
      "outputs": []
    }
  ],
  "metadata": {
    "accelerator": "GPU",
    "colab": {
      "collapsed_sections": [],
      "name": "EyeGaizingScanPath.ipynb",
      "provenance": [],
      "authorship_tag": "ABX9TyNs9/bcI/AvxrNEONRXvbpt",
      "include_colab_link": true
    },
    "gpuClass": "standard",
    "kernelspec": {
      "display_name": "Python 3",
      "name": "python3"
    },
    "language_info": {
      "name": "python"
    }
  },
  "nbformat": 4,
  "nbformat_minor": 0
}